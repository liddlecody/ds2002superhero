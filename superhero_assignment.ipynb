{
  "cells": [
    {
      "cell_type": "markdown",
      "metadata": {
        "id": "view-in-github",
        "colab_type": "text"
      },
      "source": [
        "<a href=\"https://colab.research.google.com/github/liddlecody/ds2002superhero/blob/main/superhero_assignment.ipynb\" target=\"_parent\"><img src=\"https://colab.research.google.com/assets/colab-badge.svg\" alt=\"Open In Colab\"/></a>"
      ]
    },
    {
      "cell_type": "markdown",
      "id": "5fa8dcf6",
      "metadata": {
        "id": "5fa8dcf6"
      },
      "source": [
        "# Superhero Database Assignment (SQLite & Google Colab)\n",
        "\n",
        "## Objective\n",
        "In this assignment, you will design and implement a **Superhero Database** using SQLite in Google Colab. This database will store superheroes, villains, and their battles. You will write SQL queries to analyze battle outcomes and relationships between heroes and villains.\n",
        "\n",
        "### Group Size:\n",
        "- 2 to 3 students per group.\n",
        "\n",
        "### Tools Required:\n",
        "- **Google Colab**\n",
        "- **SQLite (built into Python)**\n",
        "- **CSV files (provided for import)**"
      ]
    },
    {
      "cell_type": "markdown",
      "id": "5535e625",
      "metadata": {
        "id": "5535e625"
      },
      "source": [
        "## Step 1: Setting Up Your SQLite Database\n",
        "\n",
        "### Tasks:\n",
        "1. Initialize SQLite in Google Colab.\n",
        "2. Create a database named `superhero_db.sqlite`.\n",
        "3. Define the database schema, ensuring it includes the following tables:\n",
        "   - `heroes`: Stores superhero names, powers, and teams.\n",
        "   - `villains`: Stores villains and their evil plans.\n",
        "   - `battles`: Tracks battles between heroes and villains, including the outcome.\n",
        "4. Implement primary keys and foreign keys where appropriate.\n",
        "\n",
        "✅ **Checkpoint:** Ensure that the database and tables have been successfully created."
      ]
    },
    {
      "cell_type": "code",
      "source": [
        "import sqlite3\n",
        "import pandas as pd\n",
        "\n",
        "conn = sqlite3.connect(':memory:')\n",
        "cursor = conn.cursor()\n",
        "\n",
        "#create the superhero database\n",
        "conn = sqlite3.connect('superhero_db.sqlite')\n",
        "cursor = conn.cursor()\n",
        "\n",
        "# create the 'heroes' table\n",
        "cursor.execute('''\n",
        "    CREATE TABLE IF NOT EXISTS heroes (\n",
        "        hero_id INTEGER PRIMARY KEY AUTOINCREMENT,\n",
        "        hero_name TEXT NOT NULL,\n",
        "        power TEXT,\n",
        "        team TEXT\n",
        "    )\n",
        "''')\n",
        "\n",
        "# create the 'villains' table\n",
        "cursor.execute('''\n",
        "    CREATE TABLE IF NOT EXISTS villains (\n",
        "        villain_id INTEGER PRIMARY KEY AUTOINCREMENT,\n",
        "        villain_name TEXT NOT NULL,\n",
        "        evil_plan TEXT\n",
        "    )\n",
        "''')\n",
        "\n",
        "# Create the 'battles' table\n",
        "cursor.execute('''\n",
        "    CREATE TABLE IF NOT EXISTS battles (\n",
        "        battle_id INTEGER PRIMARY KEY AUTOINCREMENT,\n",
        "        hero_id INTEGER,\n",
        "        villain_id INTEGER,\n",
        "        outcome TEXT,\n",
        "        FOREIGN KEY (hero_id) REFERENCES heroes(hero_id),\n",
        "        FOREIGN KEY (villain_id) REFERENCES villains(villain_id)\n",
        "    )\n",
        "''')\n",
        "\n",
        "conn.commit()\n",
        "conn.close()\n",
        "\n",
        "conn = sqlite3.connect('superhero_db.sqlite')\n",
        "cursor = conn.cursor()\n",
        "\n",
        "cursor.execute(\"SELECT name FROM sqlite_master WHERE type='table';\")\n",
        "tables = cursor.fetchall()\n",
        "\n",
        "print(\"Tables created:\")\n",
        "for table in tables:\n",
        "    print(table[0])\n"
      ],
      "metadata": {
        "colab": {
          "base_uri": "https://localhost:8080/"
        },
        "id": "pApgWUSWy3k0",
        "outputId": "d4e78dfd-0176-4e86-ba7f-f01cc032f9f0"
      },
      "id": "pApgWUSWy3k0",
      "execution_count": null,
      "outputs": [
        {
          "output_type": "stream",
          "name": "stdout",
          "text": [
            "Tables created:\n",
            "heroes\n",
            "sqlite_sequence\n",
            "villains\n",
            "battles\n"
          ]
        }
      ]
    },
    {
      "cell_type": "markdown",
      "id": "154b3c3a",
      "metadata": {
        "id": "154b3c3a"
      },
      "source": [
        "## Step 2: Import Data from CSV Files\n",
        "\n",
        "### Tasks:\n",
        "1. Download the provided CSV files.\n",
        "2. Upload them to Google Colab.\n",
        "3. Write a script to import data from these files into the appropriate tables.\n",
        "4. Verify that the data has been successfully inserted.\n",
        "\n",
        "✅ **Checkpoint:** Ensure that each table contains the expected data from the CSV files."
      ]
    },
    {
      "cell_type": "code",
      "source": [
        "# Load data from CSV into a DataFrame\n",
        "df_heroes = pd.read_csv('/content/heroes.csv')\n",
        "\n",
        "# Display the first few rows of the DataFrame\n",
        "print(df_heroes.head())\n",
        "\n",
        "# Insert data from the DataFrame into the heroes table\n",
        "df_heroes.to_sql('heroes', conn, if_exists='replace', index=False)\n",
        "\n",
        "\n",
        "# Load data from CSV into a DataFrame\n",
        "df_villains = pd.read_csv('/content/villains.csv')\n",
        "\n",
        "# Display the first few rows of the DataFrame\n",
        "print(df_villains.head())\n",
        "\n",
        "# Insert data from the DataFrame into the heroes table\n",
        "df_villains.to_sql('villains', conn, if_exists='replace', index=False)\n",
        "\n",
        "\n",
        "# Load data from CSV into a DataFrame\n",
        "df_battles = pd.read_csv('/content/battles.csv')\n",
        "\n",
        "# Display the first few rows of the DataFrame\n",
        "print(df_battles.head())\n",
        "\n",
        "df_battles.to_sql('battles', conn, if_exists='replace', index=False)\n",
        "\n",
        "cursor.execute(\"SELECT * FROM heroes\")\n",
        "rows = cursor.fetchall()\n",
        "print(\"\\nData in the 'heroes' table:\")\n",
        "for row in rows:\n",
        "    print(row)\n",
        "\n",
        "cursor.execute(\"SELECT * FROM villains\")\n",
        "rows2 = cursor.fetchall()\n",
        "print(\"\\nData in the 'villains' table:\")\n",
        "for row in rows2:\n",
        "    print(row)\n",
        "\n",
        "\n",
        "cursor.execute(\"SELECT * FROM battles\")\n",
        "rows3 = cursor.fetchall()\n",
        "print(\"\\nData in the 'battles' table:\")\n",
        "for row in rows3:\n",
        "    print(row)"
      ],
      "metadata": {
        "colab": {
          "base_uri": "https://localhost:8080/"
        },
        "id": "wEJXsbOT0oPB",
        "outputId": "b262bad8-c1fe-4d1d-8e5a-a175e0cce26d"
      },
      "id": "wEJXsbOT0oPB",
      "execution_count": null,
      "outputs": [
        {
          "output_type": "stream",
          "name": "stdout",
          "text": [
            "   id        name             power            team\n",
            "0   1  Spider-Man      Web-slinging        Avengers\n",
            "1   2    Iron Man     Powered Armor        Avengers\n",
            "2   3      Batman  Genius Detective  Justice League\n",
            "3   4    Superman    Super Strength  Justice League\n",
            "4   5        Thor    God of Thunder        Avengers\n",
            "   id          name                           evil_plan\n",
            "0   1  Green Goblin                  Terrorize New York\n",
            "1   2        Thanos         Collect all Infinity Stones\n",
            "2   3         Joker              Spread chaos in Gotham\n",
            "3   4    Lex Luthor                     Defeat Superman\n",
            "4   5          Loki  Trick humanity into worshiping him\n",
            "   id  hero_id  villain_id       outcome\n",
            "0   1        1          10  Villain Wins\n",
            "1   2        9           3     Hero Wins\n",
            "2   3        8           1          Draw\n",
            "3   4        5           4  Villain Wins\n",
            "4   5        1           7     Hero Wins\n",
            "\n",
            "Data in the 'heroes' table:\n",
            "(1, 'Spider-Man', 'Web-slinging', 'Avengers')\n",
            "(2, 'Iron Man', 'Powered Armor', 'Avengers')\n",
            "(3, 'Batman', 'Genius Detective', 'Justice League')\n",
            "(4, 'Superman', 'Super Strength', 'Justice League')\n",
            "(5, 'Thor', 'God of Thunder', 'Avengers')\n",
            "(6, 'Wonder Woman', 'Amazonian Strength', 'Justice League')\n",
            "(7, 'Black Panther', 'Enhanced Agility', 'Avengers')\n",
            "(8, 'The Flash', 'Super Speed', 'Justice League')\n",
            "(9, 'Hulk', 'Super Strength', 'Avengers')\n",
            "(10, 'Doctor Strange', 'Mystic Arts', 'Avengers')\n",
            "\n",
            "Data in the 'villains' table:\n",
            "(1, 'Green Goblin', 'Terrorize New York')\n",
            "(2, 'Thanos', 'Collect all Infinity Stones')\n",
            "(3, 'Joker', 'Spread chaos in Gotham')\n",
            "(4, 'Lex Luthor', 'Defeat Superman')\n",
            "(5, 'Loki', 'Trick humanity into worshiping him')\n",
            "(6, 'Ultron', 'AI world domination')\n",
            "(7, 'Darkseid', 'Control the universe')\n",
            "(8, 'Venom', 'Consume Spider-Man')\n",
            "(9, 'Magneto', 'Mutant supremacy')\n",
            "(10, 'Red Skull', 'Revive Hydra')\n",
            "\n",
            "Data in the 'battles' table:\n",
            "(1, 1, 10, 'Villain Wins')\n",
            "(2, 9, 3, 'Hero Wins')\n",
            "(3, 8, 1, 'Draw')\n",
            "(4, 5, 4, 'Villain Wins')\n",
            "(5, 1, 7, 'Hero Wins')\n",
            "(6, 2, 8, 'Villain Wins')\n",
            "(7, 9, 8, 'Hero Wins')\n",
            "(8, 3, 2, 'Hero Wins')\n",
            "(9, 7, 5, 'Hero Wins')\n",
            "(10, 3, 1, 'Draw')\n",
            "(11, 1, 8, 'Villain Wins')\n",
            "(12, 2, 1, 'Draw')\n",
            "(13, 8, 9, 'Hero Wins')\n",
            "(14, 8, 1, 'Draw')\n",
            "(15, 6, 10, 'Draw')\n",
            "(16, 1, 1, 'Villain Wins')\n",
            "(17, 8, 3, 'Draw')\n",
            "(18, 6, 3, 'Villain Wins')\n",
            "(19, 4, 8, 'Villain Wins')\n",
            "(20, 3, 4, 'Hero Wins')\n",
            "(21, 8, 1, 'Draw')\n",
            "(22, 4, 9, 'Draw')\n",
            "(23, 3, 9, 'Draw')\n",
            "(24, 8, 9, 'Villain Wins')\n",
            "(25, 2, 5, 'Draw')\n",
            "(26, 3, 7, 'Draw')\n",
            "(27, 10, 3, 'Draw')\n",
            "(28, 3, 8, 'Draw')\n",
            "(29, 3, 5, 'Hero Wins')\n",
            "(30, 5, 5, 'Hero Wins')\n"
          ]
        }
      ]
    },
    {
      "cell_type": "markdown",
      "id": "33548d9f",
      "metadata": {
        "id": "33548d9f"
      },
      "source": [
        "## Step 3: Querying the Database\n",
        "\n",
        "### Tasks:\n",
        "Write SQL queries to answer the following:\n",
        "1. Retrieve all superheroes and their powers.\n",
        "2. Find all battles where the hero won.\n",
        "3. List all villains and their evil plans.\n",
        "4. Determine which superhero has fought the most battles.\n",
        "\n",
        "✅ **Checkpoint:** Ensure that all queries return meaningful results from the database."
      ]
    },
    {
      "cell_type": "code",
      "source": [
        "cursor.execute('''\n",
        "    SELECT name, power\n",
        "    FROM heroes\n",
        "''')\n",
        "rows = cursor.fetchall()\n",
        "for row in rows:\n",
        "    print(row)"
      ],
      "metadata": {
        "colab": {
          "base_uri": "https://localhost:8080/"
        },
        "id": "FWEi4cJx056B",
        "outputId": "26c91376-409e-479a-d489-5fdcd5466c0f"
      },
      "id": "FWEi4cJx056B",
      "execution_count": null,
      "outputs": [
        {
          "output_type": "stream",
          "name": "stdout",
          "text": [
            "('Spider-Man', 'Web-slinging')\n",
            "('Iron Man', 'Powered Armor')\n",
            "('Batman', 'Genius Detective')\n",
            "('Superman', 'Super Strength')\n",
            "('Thor', 'God of Thunder')\n",
            "('Wonder Woman', 'Amazonian Strength')\n",
            "('Black Panther', 'Enhanced Agility')\n",
            "('The Flash', 'Super Speed')\n",
            "('Hulk', 'Super Strength')\n",
            "('Doctor Strange', 'Mystic Arts')\n"
          ]
        }
      ]
    },
    {
      "cell_type": "code",
      "source": [
        "cursor.execute('''\n",
        "    SELECT H.name, V.name, outcome\n",
        "    FROM heroes H\n",
        "    JOIN battles ON H.id = battles.hero_id\n",
        "    JOIN villains V ON battles.villain_id = V.id\n",
        "    WHERE outcome = 'Hero Wins'\n",
        "''')\n",
        "rows = cursor.fetchall()\n",
        "for row in rows:\n",
        "    print(row)"
      ],
      "metadata": {
        "colab": {
          "base_uri": "https://localhost:8080/"
        },
        "id": "isTnM8yT2P8S",
        "outputId": "14831a3a-f17f-4c23-d1f7-e65b2f2c909f"
      },
      "id": "isTnM8yT2P8S",
      "execution_count": null,
      "outputs": [
        {
          "output_type": "stream",
          "name": "stdout",
          "text": [
            "('Hulk', 'Joker', 'Hero Wins')\n",
            "('Spider-Man', 'Darkseid', 'Hero Wins')\n",
            "('Hulk', 'Venom', 'Hero Wins')\n",
            "('Batman', 'Thanos', 'Hero Wins')\n",
            "('Black Panther', 'Loki', 'Hero Wins')\n",
            "('The Flash', 'Magneto', 'Hero Wins')\n",
            "('Batman', 'Lex Luthor', 'Hero Wins')\n",
            "('Batman', 'Loki', 'Hero Wins')\n",
            "('Thor', 'Loki', 'Hero Wins')\n"
          ]
        }
      ]
    },
    {
      "cell_type": "code",
      "source": [
        "cursor.execute('''\n",
        "    SELECT name, evil_plan\n",
        "    FROM villains\n",
        "''')\n",
        "rows = cursor.fetchall()\n",
        "for row in rows:\n",
        "    print(row)"
      ],
      "metadata": {
        "colab": {
          "base_uri": "https://localhost:8080/"
        },
        "id": "X2zuCaz-3KiT",
        "outputId": "347e22d5-8b39-4ed9-8214-28c0f2fbb8be"
      },
      "id": "X2zuCaz-3KiT",
      "execution_count": null,
      "outputs": [
        {
          "output_type": "stream",
          "name": "stdout",
          "text": [
            "('Green Goblin', 'Terrorize New York')\n",
            "('Thanos', 'Collect all Infinity Stones')\n",
            "('Joker', 'Spread chaos in Gotham')\n",
            "('Lex Luthor', 'Defeat Superman')\n",
            "('Loki', 'Trick humanity into worshiping him')\n",
            "('Ultron', 'AI world domination')\n",
            "('Darkseid', 'Control the universe')\n",
            "('Venom', 'Consume Spider-Man')\n",
            "('Magneto', 'Mutant supremacy')\n",
            "('Red Skull', 'Revive Hydra')\n"
          ]
        }
      ]
    },
    {
      "cell_type": "code",
      "source": [
        "cursor.execute('''\n",
        "    SELECT H.name, COUNT(B.id) AS battle_count\n",
        "    FROM heroes H\n",
        "    JOIN battles B ON H.id = B.hero_id\n",
        "    GROUP BY H.name\n",
        "    ORDER BY battle_count DESC\n",
        "    LIMIT 1''')\n",
        "\n",
        "rows = cursor.fetchall()\n",
        "for row in rows:\n",
        "    print(row)"
      ],
      "metadata": {
        "colab": {
          "base_uri": "https://localhost:8080/"
        },
        "id": "0T-V4Gaj3o89",
        "outputId": "a48e2453-98e7-4f29-e142-71c43bee1110"
      },
      "id": "0T-V4Gaj3o89",
      "execution_count": null,
      "outputs": [
        {
          "output_type": "stream",
          "name": "stdout",
          "text": [
            "('Batman', 7)\n"
          ]
        }
      ]
    },
    {
      "cell_type": "markdown",
      "id": "de8bda94",
      "metadata": {
        "id": "de8bda94"
      },
      "source": [
        "## Step 4: Add a Custom Feature\n",
        "\n",
        "### Tasks:\n",
        "1. Design and implement an additional table related to superheroes or villains.\n",
        "2. Populate it with data.\n",
        "3. Write at least one query to retrieve meaningful insights from the new table.\n",
        "\n",
        "**Examples of Custom Features:**\n",
        "- Sidekicks for superheroes\n",
        "- Villain hideouts\n",
        "- Battle locations\n",
        "- Superhero equipment\n",
        "\n",
        "✅ **Checkpoint:** Ensure that the new table and queries function correctly."
      ]
    },
    {
      "cell_type": "code",
      "source": [
        "# Reopen the database connection\n",
        "conn = sqlite3.connect('superhero_db.sqlite')\n",
        "cursor = conn.cursor()\n",
        "\n",
        "# Create the 'sidekicks' table\n",
        "cursor.execute('''\n",
        "    CREATE TABLE IF NOT EXISTS sidekicks (\n",
        "        sidekick_id INTEGER PRIMARY KEY AUTOINCREMENT,\n",
        "        hero_id INTEGER,\n",
        "        sidekick_name TEXT NOT NULL,\n",
        "        FOREIGN KEY (hero_id) REFERENCES heroes(hero_id)\n",
        "    )\n",
        "''')\n",
        "\n",
        "# Insert data into the 'sidekicks' table\n",
        "sidekicks = [\n",
        "    (1, 'billy'),\n",
        "    (2, 'bob'),\n",
        "    (3, 'joe'),\n",
        "    (4, 'mario'),\n",
        "    (5, 'bokki'),\n",
        "    (6, 'sonic'),\n",
        "    (7, 'shrek'),\n",
        "    (8, 'fish'),\n",
        "    (9, 'shrimp'),\n",
        "    (10, 'crab')\n",
        "]\n",
        "\n",
        "\n",
        "cursor.executemany('''\n",
        "    INSERT INTO sidekicks (hero_id, sidekick_name) VALUES (?, ?)\n",
        "''', sidekicks)\n",
        "\n",
        "print(\"Database populated with data!\")\n",
        "# Commit changes and close connection\n",
        "conn.commit()\n",
        "\n",
        "\n",
        "# check if tables were created\n",
        "conn = sqlite3.connect('superhero_db.sqlite')\n",
        "cursor = conn.cursor()\n",
        "\n",
        "cursor.execute(\"SELECT name FROM sqlite_master WHERE type='table';\")\n",
        "tables = cursor.fetchall()\n",
        "\n",
        "print(\"Tables created:\")\n",
        "for table in tables:\n",
        "    print(table[0])\n",
        "\n",
        "conn.close()"
      ],
      "metadata": {
        "colab": {
          "base_uri": "https://localhost:8080/"
        },
        "id": "ra4yzdEBCe40",
        "outputId": "76b6c112-9cc2-4338-e87d-2e21895807c1"
      },
      "id": "ra4yzdEBCe40",
      "execution_count": null,
      "outputs": [
        {
          "output_type": "stream",
          "name": "stdout",
          "text": [
            "Database populated with data!\n",
            "Tables created:\n",
            "sqlite_sequence\n",
            "heroes\n",
            "villains\n",
            "battles\n",
            "sidekicks\n"
          ]
        }
      ]
    },
    {
      "cell_type": "code",
      "source": [
        "# Reconnect to the database to check if sidekicks are properly linked with heroes\n",
        "conn = sqlite3.connect('superhero_db.sqlite')\n",
        "cursor = conn.cursor()\n",
        "\n",
        "# Check if the hero_id in sidekicks matches with hero_id in the heroes table\n",
        "cursor.execute('''\n",
        "    SELECT s.sidekick_name, h.name\n",
        "    FROM sidekicks s\n",
        "    JOIN heroes h ON s.hero_id = h.id;  -- Updated column name for hero_id\n",
        "''')\n",
        "\n",
        "# Fetch the results and store them in a variable\n",
        "sidekick_hero_match = cursor.fetchall()\n",
        "\n",
        "# Print matching sidekicks with their heroes\n",
        "print(\"Sidekicks and their heroes:\")\n",
        "for match in sidekick_hero_match:\n",
        "    print(f\"Sidekick: {match[0]}, Hero: {match[1]}\")\n"
      ],
      "metadata": {
        "colab": {
          "base_uri": "https://localhost:8080/"
        },
        "id": "fPD-zsq9RvWD",
        "outputId": "313db4a4-765b-4a22-dc0d-b652e9622a99"
      },
      "id": "fPD-zsq9RvWD",
      "execution_count": null,
      "outputs": [
        {
          "output_type": "stream",
          "name": "stdout",
          "text": [
            "Sidekicks and their heroes:\n",
            "Sidekick: billy, Hero: Spider-Man\n",
            "Sidekick: bob, Hero: Iron Man\n",
            "Sidekick: joe, Hero: Batman\n",
            "Sidekick: mario, Hero: Superman\n",
            "Sidekick: bokki, Hero: Thor\n",
            "Sidekick: sonic, Hero: Wonder Woman\n",
            "Sidekick: shrek, Hero: Black Panther\n",
            "Sidekick: fish, Hero: The Flash\n",
            "Sidekick: shrimp, Hero: Hulk\n",
            "Sidekick: crab, Hero: Doctor Strange\n"
          ]
        }
      ]
    },
    {
      "cell_type": "markdown",
      "id": "9bf43fe6",
      "metadata": {
        "id": "9bf43fe6"
      },
      "source": [
        "## Bonus Challenge (+5 Points)\n",
        "\n",
        "### Tasks:\n",
        "1. Enhance your project by adding a visual or interactive component.\n",
        "\n",
        "**Options:**\n",
        "- Visualize battles using Matplotlib (e.g., a bar chart showing how many battles each superhero has fought).\n",
        "- Make it interactive (e.g., allow users to input a superhero name and display their battles).\n",
        "\n",
        "✅ **Checkpoint:** If attempting the bonus, ensure that your visualization or interactive component works correctly."
      ]
    },
    {
      "cell_type": "code",
      "source": [
        "import matplotlib.pyplot as plt\n",
        "\n",
        "query = \"\"\"\n",
        "SELECT h.name AS hero,\n",
        "       COUNT(*) AS battle_count\n",
        "FROM battles b\n",
        "JOIN heroes h ON b.hero_id = h.id\n",
        "GROUP BY h.id, h.name\n",
        "ORDER BY battle_count DESC;\n",
        "\"\"\"\n",
        "\n",
        "# Read the SQL query results into a DataFrame\n",
        "df2 = pd.read_sql_query(query, conn)\n",
        "\n",
        "\n",
        "# Create a bar plot\n",
        "df2.plot(kind='bar', x='hero', y='battle_count', legend=False)\n",
        "\n",
        "# Add labels and title\n",
        "plt.xlabel('Superhero')\n",
        "plt.ylabel('Number of Battles')\n",
        "plt.title('Number of Battles for Each Superhero')\n",
        "\n",
        "\n",
        "# Show the plot\n",
        "plt.tight_layout()  # Helps with label spacing\n",
        "plt.show()\n"
      ],
      "metadata": {
        "colab": {
          "base_uri": "https://localhost:8080/",
          "height": 487
        },
        "id": "MNlZi3S74PK2",
        "outputId": "4e7f1c05-155c-4341-b2cc-eefa7044927c"
      },
      "id": "MNlZi3S74PK2",
      "execution_count": null,
      "outputs": [
        {
          "output_type": "display_data",
          "data": {
            "text/plain": [
              "<Figure size 640x480 with 1 Axes>"
            ],
            "image/png": "[encoded data removed]"
          },
          "metadata": {}
        }
      ]
    },
    {
      "cell_type": "markdown",
      "id": "89f56c05",
      "metadata": {
        "id": "89f56c05"
      },
      "source": [
        "## Submission Guidelines\n",
        "\n",
        "Each group must submit a **Google Colab Notebook (.ipynb)** containing:\n",
        "- ✅ **Database schema (DDL)**\n",
        "- ✅ **CSV imports & data insertion (DML)**\n",
        "- ✅ **SQL queries & results**\n",
        "- ✅ **Custom feature (bonus if applicable)**"
      ]
    },
    {
      "cell_type": "markdown",
      "id": "61477c9b",
      "metadata": {
        "id": "61477c9b"
      },
      "source": [
        "## Grading Criteria (Total: 25 Points)\n",
        "\n",
        "| Section                 | Points |\n",
        "|-------------------------|--------|\n",
        "| Database Setup          | 5      |\n",
        "| Data Importing         | 10     |\n",
        "| Querying the Data      | 10     |\n",
        "| Extra Feature          | 5      |\n",
        "| Bonus Challenge (Optional) | +5  |"
      ]
    },
    {
      "cell_type": "markdown",
      "id": "92bf6839",
      "metadata": {
        "id": "92bf6839"
      },
      "source": [
        "### Final Notes:\n",
        "- Be **creative** when designing superheroes and villains.\n",
        "- **Comment your code** to explain its functionality.\n",
        "- **Have fun** building your superhero universe!"
      ]
    }
  ],
  "metadata": {
    "colab": {
      "provenance": [],
      "include_colab_link": true
    },
    "language_info": {
      "name": "python"
    },
    "kernelspec": {
      "name": "python3",
      "display_name": "Python 3"
    }
  },
  "nbformat": 4,
  "nbformat_minor": 5
}